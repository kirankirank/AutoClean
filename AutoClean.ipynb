{
 "cells": [
  {
   "cell_type": "code",
   "execution_count": 1,
   "id": "7795a1c5",
   "metadata": {},
   "outputs": [
    {
     "name": "stdout",
     "output_type": "stream",
     "text": [
      "Collecting py-AutoClean\n",
      "  Downloading py-AutoClean-1.1.3.tar.gz (9.5 kB)\n",
      "Requirement already satisfied: scikit-learn in c:\\users\\kiran\\anaconda3\\lib\\site-packages (from py-AutoClean) (1.0.2)\n",
      "Requirement already satisfied: numpy in c:\\users\\kiran\\anaconda3\\lib\\site-packages (from py-AutoClean) (1.21.5)\n",
      "Requirement already satisfied: pandas in c:\\users\\kiran\\anaconda3\\lib\\site-packages (from py-AutoClean) (1.4.2)\n",
      "Collecting loguru\n",
      "  Downloading loguru-0.6.0-py3-none-any.whl (58 kB)\n",
      "Requirement already satisfied: colorama>=0.3.4 in c:\\users\\kiran\\anaconda3\\lib\\site-packages (from loguru->py-AutoClean) (0.4.4)\n",
      "Collecting win32-setctime>=1.0.0\n",
      "  Downloading win32_setctime-1.1.0-py3-none-any.whl (3.6 kB)\n",
      "Requirement already satisfied: pytz>=2020.1 in c:\\users\\kiran\\anaconda3\\lib\\site-packages (from pandas->py-AutoClean) (2021.3)\n",
      "Requirement already satisfied: python-dateutil>=2.8.1 in c:\\users\\kiran\\anaconda3\\lib\\site-packages (from pandas->py-AutoClean) (2.8.2)\n",
      "Requirement already satisfied: six>=1.5 in c:\\users\\kiran\\anaconda3\\lib\\site-packages (from python-dateutil>=2.8.1->pandas->py-AutoClean) (1.16.0)\n",
      "Requirement already satisfied: scipy>=1.1.0 in c:\\users\\kiran\\anaconda3\\lib\\site-packages (from scikit-learn->py-AutoClean) (1.7.3)\n",
      "Requirement already satisfied: threadpoolctl>=2.0.0 in c:\\users\\kiran\\anaconda3\\lib\\site-packages (from scikit-learn->py-AutoClean) (2.2.0)\n",
      "Requirement already satisfied: joblib>=0.11 in c:\\users\\kiran\\anaconda3\\lib\\site-packages (from scikit-learn->py-AutoClean) (1.1.0)\n",
      "Building wheels for collected packages: py-AutoClean\n",
      "  Building wheel for py-AutoClean (setup.py): started\n",
      "  Building wheel for py-AutoClean (setup.py): finished with status 'done'\n",
      "  Created wheel for py-AutoClean: filename=py_AutoClean-1.1.3-py3-none-any.whl size=10295 sha256=1853c796861ad2cd967883e967a1a4eb9e00c219f617b6f9f702879f34a7f0bf\n",
      "  Stored in directory: c:\\users\\kiran\\appdata\\local\\pip\\cache\\wheels\\ec\\69\\58\\cebe3f3e7e78242900e9547a70801cb6ecc4f8e11872a0b71e\n",
      "Successfully built py-AutoClean\n",
      "Installing collected packages: win32-setctime, loguru, py-AutoClean\n",
      "Successfully installed loguru-0.6.0 py-AutoClean-1.1.3 win32-setctime-1.1.0\n"
     ]
    }
   ],
   "source": [
    "!pip install py-AutoClean"
   ]
  },
  {
   "cell_type": "code",
   "execution_count": 2,
   "id": "fb5bc1d5",
   "metadata": {},
   "outputs": [],
   "source": [
    "import pandas as pd\n",
    "data = pd.read_csv(\"C:/Users/kiran/Downloads/DataSets/claimants.csv\")"
   ]
  },
  {
   "cell_type": "code",
   "execution_count": 3,
   "id": "963ee4f0",
   "metadata": {},
   "outputs": [
    {
     "data": {
      "text/html": [
       "<div>\n",
       "<style scoped>\n",
       "    .dataframe tbody tr th:only-of-type {\n",
       "        vertical-align: middle;\n",
       "    }\n",
       "\n",
       "    .dataframe tbody tr th {\n",
       "        vertical-align: top;\n",
       "    }\n",
       "\n",
       "    .dataframe thead th {\n",
       "        text-align: right;\n",
       "    }\n",
       "</style>\n",
       "<table border=\"1\" class=\"dataframe\">\n",
       "  <thead>\n",
       "    <tr style=\"text-align: right;\">\n",
       "      <th></th>\n",
       "      <th>CASENUM</th>\n",
       "      <th>ATTORNEY</th>\n",
       "      <th>CLMSEX</th>\n",
       "      <th>CLMINSUR</th>\n",
       "      <th>SEATBELT</th>\n",
       "      <th>CLMAGE</th>\n",
       "      <th>LOSS</th>\n",
       "    </tr>\n",
       "  </thead>\n",
       "  <tbody>\n",
       "    <tr>\n",
       "      <th>0</th>\n",
       "      <td>5</td>\n",
       "      <td>0</td>\n",
       "      <td>0.0</td>\n",
       "      <td>1.0</td>\n",
       "      <td>0.0</td>\n",
       "      <td>50.0</td>\n",
       "      <td>34.940</td>\n",
       "    </tr>\n",
       "    <tr>\n",
       "      <th>1</th>\n",
       "      <td>3</td>\n",
       "      <td>1</td>\n",
       "      <td>1.0</td>\n",
       "      <td>0.0</td>\n",
       "      <td>0.0</td>\n",
       "      <td>18.0</td>\n",
       "      <td>0.891</td>\n",
       "    </tr>\n",
       "    <tr>\n",
       "      <th>2</th>\n",
       "      <td>66</td>\n",
       "      <td>1</td>\n",
       "      <td>0.0</td>\n",
       "      <td>1.0</td>\n",
       "      <td>0.0</td>\n",
       "      <td>5.0</td>\n",
       "      <td>0.330</td>\n",
       "    </tr>\n",
       "    <tr>\n",
       "      <th>3</th>\n",
       "      <td>70</td>\n",
       "      <td>0</td>\n",
       "      <td>0.0</td>\n",
       "      <td>1.0</td>\n",
       "      <td>1.0</td>\n",
       "      <td>31.0</td>\n",
       "      <td>0.037</td>\n",
       "    </tr>\n",
       "    <tr>\n",
       "      <th>4</th>\n",
       "      <td>96</td>\n",
       "      <td>1</td>\n",
       "      <td>0.0</td>\n",
       "      <td>1.0</td>\n",
       "      <td>0.0</td>\n",
       "      <td>30.0</td>\n",
       "      <td>0.038</td>\n",
       "    </tr>\n",
       "  </tbody>\n",
       "</table>\n",
       "</div>"
      ],
      "text/plain": [
       "   CASENUM  ATTORNEY  CLMSEX  CLMINSUR  SEATBELT  CLMAGE    LOSS\n",
       "0        5         0     0.0       1.0       0.0    50.0  34.940\n",
       "1        3         1     1.0       0.0       0.0    18.0   0.891\n",
       "2       66         1     0.0       1.0       0.0     5.0   0.330\n",
       "3       70         0     0.0       1.0       1.0    31.0   0.037\n",
       "4       96         1     0.0       1.0       0.0    30.0   0.038"
      ]
     },
     "execution_count": 3,
     "metadata": {},
     "output_type": "execute_result"
    }
   ],
   "source": [
    "data.head()"
   ]
  },
  {
   "cell_type": "code",
   "execution_count": 4,
   "id": "e7f35a94",
   "metadata": {},
   "outputs": [
    {
     "data": {
      "text/plain": [
       "CASENUM       0\n",
       "ATTORNEY      0\n",
       "CLMSEX       12\n",
       "CLMINSUR     41\n",
       "SEATBELT     48\n",
       "CLMAGE      189\n",
       "LOSS          0\n",
       "dtype: int64"
      ]
     },
     "execution_count": 4,
     "metadata": {},
     "output_type": "execute_result"
    }
   ],
   "source": [
    "data.isna().sum()"
   ]
  },
  {
   "cell_type": "code",
   "execution_count": 5,
   "id": "fe351a22",
   "metadata": {},
   "outputs": [
    {
     "data": {
      "text/plain": [
       "{'whiskers': [<matplotlib.lines.Line2D at 0x223ac0b78e0>,\n",
       "  <matplotlib.lines.Line2D at 0x223ac0b7bb0>],\n",
       " 'caps': [<matplotlib.lines.Line2D at 0x223ac0b7f40>,\n",
       "  <matplotlib.lines.Line2D at 0x223ac0d6190>],\n",
       " 'boxes': [<matplotlib.lines.Line2D at 0x223ac0b7610>],\n",
       " 'medians': [<matplotlib.lines.Line2D at 0x223ac0d6460>],\n",
       " 'fliers': [<matplotlib.lines.Line2D at 0x223ac0d6730>],\n",
       " 'means': []}"
      ]
     },
     "execution_count": 5,
     "metadata": {},
     "output_type": "execute_result"
    },
    {
     "data": {
      "image/png": "[encoded data removed]",
      "text/plain": [
       "<Figure size 432x288 with 1 Axes>"
      ]
     },
     "metadata": {
      "needs_background": "light"
     },
     "output_type": "display_data"
    }
   ],
   "source": [
    "import matplotlib.pyplot as mpl\n",
    "mpl.boxplot(data['CASENUM'])"
   ]
  },
  {
   "cell_type": "code",
   "execution_count": 6,
   "id": "f0030a0e",
   "metadata": {},
   "outputs": [
    {
     "data": {
      "text/plain": [
       "{'whiskers': [<matplotlib.lines.Line2D at 0x223ad17cf10>,\n",
       "  <matplotlib.lines.Line2D at 0x223ad18c220>],\n",
       " 'caps': [<matplotlib.lines.Line2D at 0x223ad18c4f0>,\n",
       "  <matplotlib.lines.Line2D at 0x223ad18c7c0>],\n",
       " 'boxes': [<matplotlib.lines.Line2D at 0x223ad17cc40>],\n",
       " 'medians': [<matplotlib.lines.Line2D at 0x223ad18ca90>],\n",
       " 'fliers': [<matplotlib.lines.Line2D at 0x223ad18cd60>],\n",
       " 'means': []}"
      ]
     },
     "execution_count": 6,
     "metadata": {},
     "output_type": "execute_result"
    },
    {
     "data": {
      "image/png": "[encoded data removed]",
      "text/plain": [
       "<Figure size 432x288 with 1 Axes>"
      ]
     },
     "metadata": {
      "needs_background": "light"
     },
     "output_type": "display_data"
    }
   ],
   "source": [
    "mpl.boxplot(data['LOSS'])"
   ]
  },
  {
   "cell_type": "code",
   "execution_count": 7,
   "id": "05b76b75",
   "metadata": {},
   "outputs": [
    {
     "name": "stdout",
     "output_type": "stream",
     "text": [
      "AutoClean process completed in 1.347651 seconds\n",
      "Logfile saved to: C:\\Users\\kiran\\Desktop\\autoclean.log\n"
     ]
    }
   ],
   "source": [
    "from AutoClean import AutoClean\n",
    "pipeline = AutoClean(data, duplicates='auto' , missing_num = 'knn', outliers ='winz' )"
   ]
  },
  {
   "cell_type": "code",
   "execution_count": 8,
   "id": "d1411cc8",
   "metadata": {},
   "outputs": [
    {
     "data": {
      "text/html": [
       "<div>\n",
       "<style scoped>\n",
       "    .dataframe tbody tr th:only-of-type {\n",
       "        vertical-align: middle;\n",
       "    }\n",
       "\n",
       "    .dataframe tbody tr th {\n",
       "        vertical-align: top;\n",
       "    }\n",
       "\n",
       "    .dataframe thead th {\n",
       "        text-align: right;\n",
       "    }\n",
       "</style>\n",
       "<table border=\"1\" class=\"dataframe\">\n",
       "  <thead>\n",
       "    <tr style=\"text-align: right;\">\n",
       "      <th></th>\n",
       "      <th>CASENUM</th>\n",
       "      <th>ATTORNEY</th>\n",
       "      <th>CLMSEX</th>\n",
       "      <th>CLMINSUR</th>\n",
       "      <th>SEATBELT</th>\n",
       "      <th>CLMAGE</th>\n",
       "      <th>LOSS</th>\n",
       "    </tr>\n",
       "  </thead>\n",
       "  <tbody>\n",
       "    <tr>\n",
       "      <th>0</th>\n",
       "      <td>5</td>\n",
       "      <td>0</td>\n",
       "      <td>0</td>\n",
       "      <td>1</td>\n",
       "      <td>0</td>\n",
       "      <td>50</td>\n",
       "      <td>8.854</td>\n",
       "    </tr>\n",
       "    <tr>\n",
       "      <th>1</th>\n",
       "      <td>3</td>\n",
       "      <td>1</td>\n",
       "      <td>1</td>\n",
       "      <td>1</td>\n",
       "      <td>0</td>\n",
       "      <td>18</td>\n",
       "      <td>0.891</td>\n",
       "    </tr>\n",
       "    <tr>\n",
       "      <th>2</th>\n",
       "      <td>66</td>\n",
       "      <td>1</td>\n",
       "      <td>0</td>\n",
       "      <td>1</td>\n",
       "      <td>0</td>\n",
       "      <td>5</td>\n",
       "      <td>0.330</td>\n",
       "    </tr>\n",
       "    <tr>\n",
       "      <th>3</th>\n",
       "      <td>70</td>\n",
       "      <td>0</td>\n",
       "      <td>0</td>\n",
       "      <td>1</td>\n",
       "      <td>0</td>\n",
       "      <td>31</td>\n",
       "      <td>0.037</td>\n",
       "    </tr>\n",
       "    <tr>\n",
       "      <th>4</th>\n",
       "      <td>96</td>\n",
       "      <td>1</td>\n",
       "      <td>0</td>\n",
       "      <td>1</td>\n",
       "      <td>0</td>\n",
       "      <td>30</td>\n",
       "      <td>0.038</td>\n",
       "    </tr>\n",
       "  </tbody>\n",
       "</table>\n",
       "</div>"
      ],
      "text/plain": [
       "   CASENUM  ATTORNEY  CLMSEX  CLMINSUR  SEATBELT  CLMAGE   LOSS\n",
       "0        5         0       0         1         0      50  8.854\n",
       "1        3         1       1         1         0      18  0.891\n",
       "2       66         1       0         1         0       5  0.330\n",
       "3       70         0       0         1         0      31  0.037\n",
       "4       96         1       0         1         0      30  0.038"
      ]
     },
     "execution_count": 8,
     "metadata": {},
     "output_type": "execute_result"
    }
   ],
   "source": [
    "pipeline.output.head()"
   ]
  },
  {
   "cell_type": "code",
   "execution_count": 9,
   "id": "e2566b4a",
   "metadata": {},
   "outputs": [
    {
     "data": {
      "text/plain": [
       "{'whiskers': [<matplotlib.lines.Line2D at 0x223aecd3d00>,\n",
       "  <matplotlib.lines.Line2D at 0x223aecd3fd0>],\n",
       " 'caps': [<matplotlib.lines.Line2D at 0x223aece22e0>,\n",
       "  <matplotlib.lines.Line2D at 0x223aece25b0>],\n",
       " 'boxes': [<matplotlib.lines.Line2D at 0x223aecd3a00>],\n",
       " 'medians': [<matplotlib.lines.Line2D at 0x223aece2880>],\n",
       " 'fliers': [<matplotlib.lines.Line2D at 0x223aece2b50>],\n",
       " 'means': []}"
      ]
     },
     "execution_count": 9,
     "metadata": {},
     "output_type": "execute_result"
    },
    {
     "data": {
      "image/png": "[encoded data removed]",
      "text/plain": [
       "<Figure size 432x288 with 1 Axes>"
      ]
     },
     "metadata": {
      "needs_background": "light"
     },
     "output_type": "display_data"
    }
   ],
   "source": [
    "mpl.boxplot(pipeline.output['LOSS'])"
   ]
  },
  {
   "cell_type": "code",
   "execution_count": 10,
   "id": "fa31c7e6",
   "metadata": {},
   "outputs": [
    {
     "data": {
      "text/plain": [
       "CASENUM     0\n",
       "ATTORNEY    0\n",
       "CLMSEX      0\n",
       "CLMINSUR    0\n",
       "SEATBELT    0\n",
       "CLMAGE      0\n",
       "LOSS        0\n",
       "dtype: int64"
      ]
     },
     "execution_count": 10,
     "metadata": {},
     "output_type": "execute_result"
    }
   ],
   "source": [
    "pipeline.output.isna().sum()"
   ]
  },
  {
   "cell_type": "code",
   "execution_count": null,
   "id": "0ef4e396",
   "metadata": {},
   "outputs": [],
   "source": []
  }
 ],
 "metadata": {
  "kernelspec": {
   "display_name": "Python 3 (ipykernel)",
   "language": "python",
   "name": "python3"
  },
  "language_info": {
   "codemirror_mode": {
    "name": "ipython",
    "version": 3
   },
   "file_extension": ".py",
   "mimetype": "text/x-python",
   "name": "python",
   "nbconvert_exporter": "python",
   "pygments_lexer": "ipython3",
   "version": "3.9.12"
  }
 },
 "nbformat": 4,
 "nbformat_minor": 5
}
